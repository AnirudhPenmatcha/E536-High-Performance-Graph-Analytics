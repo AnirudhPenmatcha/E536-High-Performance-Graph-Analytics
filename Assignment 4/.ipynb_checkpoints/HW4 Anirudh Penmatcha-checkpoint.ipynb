{
 "cells": [
  {
   "cell_type": "code",
   "execution_count": 1,
   "metadata": {
    "colab": {
     "base_uri": "https://localhost:8080/"
    },
    "id": "lEjQWqWpoksl",
    "outputId": "9e948ca2-dd38-4b20-bea9-087211c22ddc"
   },
   "outputs": [
    {
     "name": "stderr",
     "output_type": "stream",
     "text": [
      "/usr/lib/python3/dist-packages/scipy/__init__.py:146: UserWarning: A NumPy version >=1.17.3 and <1.25.0 is required for this version of SciPy (detected version 1.25.2\n",
      "  warnings.warn(f\"A NumPy version >={np_minversion} and <{np_maxversion}\"\n",
      "/usr/lib/python3/dist-packages/requests/__init__.py:87: RequestsDependencyWarning: urllib3 (2.2.1) or chardet (4.0.0) doesn't match a supported version!\n",
      "  warnings.warn(\"urllib3 ({}) or chardet ({}) doesn't match a supported \"\n"
     ]
    }
   ],
   "source": [
    "# !pip3 install neo4j-driver\n",
    "# !pip3 install graphdatascience\n",
    "# %matplotlib inline\n",
    "\n",
    "import json\n",
    "import time\n",
    "\n",
    "import pandas as pd\n",
    "import seaborn as sns\n",
    "import matplotlib.pyplot as plt\n",
    "from tqdm import tqdm\n",
    "from neo4j import GraphDatabase, basic_auth\n",
    "from graphdatascience import GraphDataScience as gds\n",
    "# from neo4j import GraphDataScience as gds"
   ]
  },
  {
   "cell_type": "code",
   "execution_count": 2,
   "metadata": {
    "id": "i923H7hdsPMU"
   },
   "outputs": [],
   "source": [
    "# A wrapper class to manage connection\n",
    "class Neo4jConnection:\n",
    "    \n",
    "    def __init__(self, uri, user, pwd):\n",
    "        self.__uri = uri\n",
    "        self.__user = user\n",
    "        self.__pwd = pwd\n",
    "        self.__driver = None\n",
    "        try:\n",
    "            self.__driver = GraphDatabase.driver( self.__uri, auth=basic_auth(self.__user, self.__pwd))\n",
    "        except Exception as e:\n",
    "            print(\"Failed to create the driver:\", e)\n",
    "        \n",
    "    def close(self):\n",
    "        if self.__driver is not None:\n",
    "            self.__driver.close()\n",
    "        \n",
    "    def query(self, query, parameters=None, db=None):\n",
    "        assert self.__driver is not None, \"Driver not initialized!\"\n",
    "        session = None\n",
    "        response = None\n",
    "        try: \n",
    "            session = self.__driver.session(database=db) if db is not None else self.__driver.session() \n",
    "            response = list(session.run(query, parameters))\n",
    "        except Exception as e:\n",
    "            print(\"Query failed:\", e)\n",
    "        finally: \n",
    "            if session is not None:\n",
    "                session.close()\n",
    "        return response"
   ]
  },
  {
   "cell_type": "code",
   "execution_count": 3,
   "metadata": {
    "id": "YdQiAZ3FsQxi"
   },
   "outputs": [],
   "source": [
    "# Actually create a connection. Copy uri (with bolt port), username and passwords from your own sandbox instance\n",
    "conn = Neo4jConnection(uri=\"neo4j+s://d409002d.databases.neo4j.io\", user=\"neo4j\", pwd=\"QZ9vR5sTj4A72_Xf4ZZVdPfmZdxRQL0uX3vLAUy-5Wc\")"
   ]
  },
  {
   "cell_type": "code",
   "execution_count": 4,
   "metadata": {
    "colab": {
     "base_uri": "https://localhost:8080/"
    },
    "id": "yePETU3wsypK",
    "outputId": "09d0037f-38e1-430b-cb52-2ca533c08c6b"
   },
   "outputs": [
    {
     "data": {
      "text/plain": [
       "[]"
      ]
     },
     "execution_count": 4,
     "metadata": {},
     "output_type": "execute_result"
    }
   ],
   "source": [
    "# clear data\n",
    "# DETACH will remove add edges as well\n",
    "query_string = '''\n",
    "MATCH (c:Character) \n",
    "DETACH DELETE c;\n",
    "'''\n",
    "conn.query(query_string)\n",
    "\n",
    "# read characters from season1 of GOT and add as Character nodes \n",
    "query_string = '''\n",
    "WITH \"https://raw.githubusercontent.com/mathbeveridge/gameofthrones/master/data/got-s1-nodes.csv\" AS uri\n",
    "LOAD CSV WITH HEADERS FROM uri AS row \n",
    "MERGE (c:Character {id:row.Id})\n",
    "SET c.name = row.Label\n",
    "'''\n",
    "conn.query(query_string)\n",
    "\n",
    "# read character interactions from season1 of GOT and add as edges\n",
    "query_string = '''\n",
    "WITH \"https://raw.githubusercontent.com/mathbeveridge/gameofthrones/master/data/got-s1-edges.csv\" AS uri\n",
    "LOAD CSV WITH HEADERS FROM uri AS row\n",
    "MATCH (source:Character {id: row.Source})\n",
    "MATCH (target:Character {id: row.Target})\n",
    "MERGE (source)-[:SEASON1 {weight: toInteger(row.Weight)}]-(target)\n",
    "'''\n",
    "conn.query(query_string)\n",
    "\n",
    "\n",
    "\n"
   ]
  },
  {
   "cell_type": "markdown",
   "metadata": {},
   "source": [
    "## Question 1 & 2"
   ]
  },
  {
   "cell_type": "markdown",
   "metadata": {},
   "source": [
    "### Code for reading even season 2-8"
   ]
  },
  {
   "cell_type": "code",
   "execution_count": 5,
   "metadata": {},
   "outputs": [],
   "source": [
    "for i in range(2,9):\n",
    "    query_string = f'''\n",
    "    WITH \"https://raw.githubusercontent.com/mathbeveridge/gameofthrones/master/data/got-s{i}-nodes.csv\" AS uri\n",
    "    LOAD CSV WITH HEADERS FROM uri AS row \n",
    "    MERGE (c:Character {{id:row.Id}})\n",
    "    SET c.name = row.Label\n",
    "    '''\n",
    "    conn.query(query_string)\n",
    "    \n",
    "    query_string = f'''\n",
    "    WITH \"https://raw.githubusercontent.com/mathbeveridge/gameofthrones/master/data/got-s{i}-edges.csv\" AS uri\n",
    "    LOAD CSV WITH HEADERS FROM uri AS row\n",
    "    MATCH (source:Character {{id: row.Source}})\n",
    "    MATCH (target:Character {{id: row.Target}})\n",
    "    MERGE (source)-[:SEASON{i} {{weight: toInteger(row.Weight)}}]-(target)\n",
    "    '''\n",
    "    conn.query(query_string)\n",
    "    \n"
   ]
  },
  {
   "cell_type": "markdown",
   "metadata": {},
   "source": [
    "## Question 3"
   ]
  },
  {
   "cell_type": "markdown",
   "metadata": {},
   "source": [
    "### Computing degree of nodes for each season separately"
   ]
  },
  {
   "cell_type": "code",
   "execution_count": 7,
   "metadata": {
    "colab": {
     "base_uri": "https://localhost:8080/"
    },
    "id": "_jAsx558gM6O",
    "outputId": "d6d48263-6c01-4c36-c68f-df2fbea5f89e"
   },
   "outputs": [
    {
     "name": "stdout",
     "output_type": "stream",
     "text": [
      "    c.name  inDegree\n",
      "0  Catelyn        29\n",
      "1     Arya        28\n",
      "2   Cersei        23\n",
      "3      Ned        23\n",
      "4     Bran        18\n"
     ]
    }
   ],
   "source": [
    "# See the degrees of nodes\n",
    "query_string = '''\n",
    "MATCH (c:Character) \n",
    "RETURN c.name, SIZE([(c)-[:SEASON1]->(s) | s]) AS inDegree \n",
    "ORDER BY inDegree DESC \n",
    "'''\n",
    "top_cat_df = pd.DataFrame([dict(_) for _ in conn.query(query_string)])\n",
    "print(top_cat_df.head(5))"
   ]
  },
  {
   "cell_type": "code",
   "execution_count": 8,
   "metadata": {},
   "outputs": [
    {
     "name": "stdout",
     "output_type": "stream",
     "text": [
      "    c.name  inDegree\n",
      "0   Cersei        28\n",
      "1     Arya        25\n",
      "2  Joffrey        23\n",
      "3  Catelyn        19\n",
      "4    Bronn        15\n"
     ]
    }
   ],
   "source": [
    "query_string = '''\n",
    "MATCH (c:Character) \n",
    "RETURN c.name, SIZE([(c)-[:SEASON2]->(s) | s]) AS inDegree \n",
    "ORDER BY inDegree DESC \n",
    "'''\n",
    "top_cat_df = pd.DataFrame([dict(_) for _ in conn.query(query_string)])\n",
    "print(top_cat_df.head(5))"
   ]
  },
  {
   "cell_type": "code",
   "execution_count": 9,
   "metadata": {},
   "outputs": [
    {
     "name": "stdout",
     "output_type": "stream",
     "text": [
      "    c.name  inDegree\n",
      "0   Cersei        18\n",
      "1     Bran        17\n",
      "2  Catelyn        16\n",
      "3     Arya        15\n",
      "4    Bronn        14\n"
     ]
    }
   ],
   "source": [
    "query_string = '''\n",
    "MATCH (c:Character) \n",
    "RETURN c.name, SIZE([(c)-[:SEASON3]->(s) | s]) AS inDegree \n",
    "ORDER BY inDegree DESC \n",
    "'''\n",
    "top_cat_df = pd.DataFrame([dict(_) for _ in conn.query(query_string)])\n",
    "print(top_cat_df.head(5))"
   ]
  },
  {
   "cell_type": "code",
   "execution_count": 10,
   "metadata": {},
   "outputs": [
    {
     "name": "stdout",
     "output_type": "stream",
     "text": [
      "    c.name  inDegree\n",
      "0   Cersei        28\n",
      "1  Joffrey        26\n",
      "2     Arya        24\n",
      "3      Jon        20\n",
      "4    Jaime        19\n"
     ]
    }
   ],
   "source": [
    "query_string = '''\n",
    "MATCH (c:Character) \n",
    "RETURN c.name, SIZE([(c)-[:SEASON4]->(s) | s]) AS inDegree \n",
    "ORDER BY inDegree DESC \n",
    "'''\n",
    "top_cat_df = pd.DataFrame([dict(_) for _ in conn.query(query_string)])\n",
    "print(top_cat_df.head(5))"
   ]
  },
  {
   "cell_type": "code",
   "execution_count": 11,
   "metadata": {},
   "outputs": [
    {
     "name": "stdout",
     "output_type": "stream",
     "text": [
      "    c.name  inDegree\n",
      "0   Cersei        29\n",
      "1    Petyr        20\n",
      "2      Jon        18\n",
      "3  Alliser        11\n",
      "4     Arya        11\n"
     ]
    }
   ],
   "source": [
    "query_string = '''\n",
    "MATCH (c:Character) \n",
    "RETURN c.name, SIZE([(c)-[:SEASON5]->(s) | s]) AS inDegree \n",
    "ORDER BY inDegree DESC \n",
    "'''\n",
    "top_cat_df = pd.DataFrame([dict(_) for _ in conn.query(query_string)])\n",
    "print(top_cat_df.head(5))"
   ]
  },
  {
   "cell_type": "code",
   "execution_count": 12,
   "metadata": {},
   "outputs": [
    {
     "name": "stdout",
     "output_type": "stream",
     "text": [
      "     c.name  inDegree\n",
      "0    Cersei        24\n",
      "1       Jon        21\n",
      "2     Davos        20\n",
      "3      Arya        17\n",
      "4  Daenerys        16\n"
     ]
    }
   ],
   "source": [
    "query_string = '''\n",
    "MATCH (c:Character) \n",
    "RETURN c.name, SIZE([(c)-[:SEASON6]->(s) | s]) AS inDegree \n",
    "ORDER BY inDegree DESC \n",
    "'''\n",
    "top_cat_df = pd.DataFrame([dict(_) for _ in conn.query(query_string)])\n",
    "print(top_cat_df.head(5))"
   ]
  },
  {
   "cell_type": "code",
   "execution_count": 13,
   "metadata": {},
   "outputs": [
    {
     "name": "stdout",
     "output_type": "stream",
     "text": [
      "     c.name  inDegree\n",
      "0  Daenerys        28\n",
      "1    Cersei        26\n",
      "2       Jon        24\n",
      "3   Brienne        22\n",
      "4     Davos        22\n"
     ]
    }
   ],
   "source": [
    "query_string = '''\n",
    "MATCH (c:Character) \n",
    "RETURN c.name, SIZE([(c)-[:SEASON7]->(s) | s]) AS inDegree \n",
    "ORDER BY inDegree DESC \n",
    "'''\n",
    "top_cat_df = pd.DataFrame([dict(_) for _ in conn.query(query_string)])\n",
    "print(top_cat_df.head(5))"
   ]
  },
  {
   "cell_type": "code",
   "execution_count": 14,
   "metadata": {},
   "outputs": [
    {
     "name": "stdout",
     "output_type": "stream",
     "text": [
      "     c.name  inDegree\n",
      "0      Arya        38\n",
      "1  Daenerys        32\n",
      "2   Brienne        30\n",
      "3     Davos        30\n",
      "4      Bran        29\n"
     ]
    }
   ],
   "source": [
    "query_string = '''\n",
    "MATCH (c:Character) \n",
    "RETURN c.name, SIZE([(c)-[:SEASON8]->(s) | s]) AS inDegree \n",
    "ORDER BY inDegree DESC \n",
    "'''\n",
    "top_cat_df = pd.DataFrame([dict(_) for _ in conn.query(query_string)])\n",
    "print(top_cat_df.head(5))"
   ]
  },
  {
   "cell_type": "markdown",
   "metadata": {},
   "source": [
    "### Computing combined degree of nodes for all seasons"
   ]
  },
  {
   "cell_type": "code",
   "execution_count": 58,
   "metadata": {},
   "outputs": [
    {
     "name": "stdout",
     "output_type": "stream",
     "text": [
      "       c.name  season1_degree  season2_degree  season3_degree  season4_degree  \\\n",
      "0      Cersei              23              28              18              28   \n",
      "1        Arya              28              25              15              24   \n",
      "2    Daenerys              17              13              10              14   \n",
      "3         Jon              14               6              12              20   \n",
      "4        Bran              18              13              17              15   \n",
      "5       Jaime              16              12              13              19   \n",
      "6       Davos               0              11               8              12   \n",
      "7     Brienne               0              13               5              15   \n",
      "8     Joffrey              18              23              14              26   \n",
      "9       Bronn              12              15              14              14   \n",
      "10    Catelyn              29              19              16              11   \n",
      "11      Petyr              15              13               9               8   \n",
      "12     Sandor              13              10               7              14   \n",
      "13        Ned              23              10               7               5   \n",
      "14    Eddison               0               5               5              14   \n",
      "15      Jorah               9               6               5               3   \n",
      "16  Grey Worm               0               0               3               3   \n",
      "17     Gendry               5               9               7               0   \n",
      "18      Gilly               0               3               7               9   \n",
      "19      Beric               2               0               6               0   \n",
      "20      Sansa               4               4               4               8   \n",
      "21    Ellaria               0               0               0              16   \n",
      "22      Loras               6               9              10               9   \n",
      "23    Alliser               8               0               0              14   \n",
      "24      Aerys              12               4               5               4   \n",
      "25       Robb               9               9              10               2   \n",
      "26    Podrick               0               4               3               5   \n",
      "27  Barristan              10               0               8               9   \n",
      "28      Hodor               4               4               9               7   \n",
      "29     Edmure               0               0              12               0   \n",
      "\n",
      "    season5_degree  season6_degree  season7_degree  season8_degree  \\\n",
      "0               29              24              26              16   \n",
      "1               11              17              18              38   \n",
      "2               11              16              28              32   \n",
      "3               18              21              24              20   \n",
      "4                3              14              16              29   \n",
      "5               11              16              12              16   \n",
      "6                8              20              22              30   \n",
      "7                8              12              22              30   \n",
      "8                7               4               8               2   \n",
      "9               11               6              15              11   \n",
      "10               4               5               3               0   \n",
      "11              20               7               9               1   \n",
      "12               0               3              15              15   \n",
      "13               4              10               4               4   \n",
      "14               9               8               1              13   \n",
      "15               6               2              11              12   \n",
      "16               4               7              10              25   \n",
      "17               0               0               8              20   \n",
      "18              10               6               2              10   \n",
      "19               0               3              10              26   \n",
      "20               4               8               4              10   \n",
      "21               7               6              15               0   \n",
      "22               5               4               0               0   \n",
      "23              11               9               0               0   \n",
      "24               2               1               8               2   \n",
      "25               2               2               2               0   \n",
      "26               4               3               8               6   \n",
      "27               6               0               0               0   \n",
      "28               0               7               0               0   \n",
      "29               0               6               0              12   \n",
      "\n",
      "    combinedDegree  \n",
      "0              192  \n",
      "1              176  \n",
      "2              141  \n",
      "3              135  \n",
      "4              125  \n",
      "5              115  \n",
      "6              111  \n",
      "7              105  \n",
      "8              102  \n",
      "9               98  \n",
      "10              87  \n",
      "11              82  \n",
      "12              77  \n",
      "13              67  \n",
      "14              55  \n",
      "15              54  \n",
      "16              52  \n",
      "17              49  \n",
      "18              47  \n",
      "19              47  \n",
      "20              46  \n",
      "21              44  \n",
      "22              43  \n",
      "23              42  \n",
      "24              38  \n",
      "25              36  \n",
      "26              33  \n",
      "27              33  \n",
      "28              31  \n",
      "29              30  \n"
     ]
    }
   ],
   "source": [
    "query_string = '''\n",
    "MATCH (c:Character) \n",
    "RETURN c.name, \n",
    "        SIZE([(c)-[:SEASON1]->() | 1]) AS season1_degree,\n",
    "        SIZE([(c)-[:SEASON2]->() | 1]) AS season2_degree,\n",
    "        SIZE([(c)-[:SEASON3]->() | 1]) AS season3_degree,\n",
    "        SIZE([(c)-[:SEASON4]->() | 1]) AS season4_degree,\n",
    "        SIZE([(c)-[:SEASON5]->() | 1]) AS season5_degree,\n",
    "        SIZE([(c)-[:SEASON6]->() | 1]) AS season6_degree,\n",
    "        SIZE([(c)-[:SEASON7]->() | 1]) AS season7_degree,\n",
    "        SIZE([(c)-[:SEASON8]->() | 1]) AS season8_degree,\n",
    "        (SIZE([(c)-[:SEASON1]->() | 1]) + \n",
    "        SIZE([(c)-[:SEASON2]->() | 1]) +\n",
    "        SIZE([(c)-[:SEASON3]->() | 1]) +\n",
    "        SIZE([(c)-[:SEASON4]->() | 1]) +\n",
    "        SIZE([(c)-[:SEASON5]->() | 1]) +\n",
    "        SIZE([(c)-[:SEASON6]->() | 1]) +\n",
    "        SIZE([(c)-[:SEASON7]->() | 1]) +\n",
    "        SIZE([(c)-[:SEASON8]->() | 1])) AS combinedDegree \n",
    "ORDER BY combinedDegree DESC \n",
    "'''\n",
    "\n",
    "top_cat_df = pd.DataFrame([dict(_) for _ in conn.query(query_string)])\n",
    "print(top_cat_df.head(30))"
   ]
  },
  {
   "cell_type": "markdown",
   "metadata": {},
   "source": [
    "## Question 4"
   ]
  },
  {
   "cell_type": "code",
   "execution_count": 41,
   "metadata": {},
   "outputs": [
    {
     "name": "stdout",
     "output_type": "stream",
     "text": [
      "     c.name  inDegree\n",
      "0   Catelyn        29\n",
      "1      Arya        28\n",
      "2    Cersei        23\n",
      "3       Ned        23\n",
      "4      Bran        18\n",
      "5   Joffrey        18\n",
      "6  Daenerys        17\n",
      "7     Jaime        16\n",
      "8     Petyr        15\n",
      "9       Jon        14\n"
     ]
    }
   ],
   "source": [
    "# See the degrees of nodes\n",
    "query_string = '''\n",
    "MATCH (c:Character) \n",
    "RETURN c.name, SIZE([(c)-[:SEASON1]->(s) | s]) AS inDegree \n",
    "ORDER BY inDegree DESC \n",
    "'''\n",
    "top_cat_df = pd.DataFrame([dict(_) for _ in conn.query(query_string)])\n",
    "print(top_cat_df.head(10))"
   ]
  },
  {
   "cell_type": "code",
   "execution_count": 42,
   "metadata": {},
   "outputs": [],
   "source": [
    "top_cat_df = top_cat_df.rename(columns={'inDegree': 'SEASON1 inDegree'})"
   ]
  },
  {
   "cell_type": "code",
   "execution_count": 43,
   "metadata": {},
   "outputs": [
    {
     "name": "stdout",
     "output_type": "stream",
     "text": [
      "     c.name  SEASON1 inDegree\n",
      "0   Catelyn                29\n",
      "1      Arya                28\n",
      "2    Cersei                23\n",
      "3       Ned                23\n",
      "4      Bran                18\n",
      "5   Joffrey                18\n",
      "6  Daenerys                17\n",
      "7     Jaime                16\n",
      "8     Petyr                15\n",
      "9       Jon                14\n"
     ]
    }
   ],
   "source": [
    "print(top_cat_df.head(10))"
   ]
  },
  {
   "cell_type": "code",
   "execution_count": 6,
   "metadata": {},
   "outputs": [
    {
     "name": "stdout",
     "output_type": "stream",
     "text": [
      "            c.name  season1_degree  season2_degree  season3_degree  \\\n",
      "0          Catelyn              29              19              16   \n",
      "1             Arya              28              25              15   \n",
      "2           Cersei              23              28              18   \n",
      "3              Ned              23              10               7   \n",
      "4             Bran              18              13              17   \n",
      "..             ...             ...             ...             ...   \n",
      "402          Varly               0               0               0   \n",
      "403        Viserys               0               0               0   \n",
      "404         Walder               0               0               0   \n",
      "405           Will               0               0               0   \n",
      "406  Wine Merchant               0               0               0   \n",
      "\n",
      "     season4_degree  season5_degree  season6_degree  season7_degree  \\\n",
      "0                11               4               5               3   \n",
      "1                24              11              17              18   \n",
      "2                28              29              24              26   \n",
      "3                 5               4              10               4   \n",
      "4                15               3              14              16   \n",
      "..              ...             ...             ...             ...   \n",
      "402               0               0               0               0   \n",
      "403               0               0               0               0   \n",
      "404               0               0               0               0   \n",
      "405               0               0               0               0   \n",
      "406               0               0               0               0   \n",
      "\n",
      "     season8_degree  combinedDegree  \n",
      "0                 0              87  \n",
      "1                38             176  \n",
      "2                16             192  \n",
      "3                 4              67  \n",
      "4                29             125  \n",
      "..              ...             ...  \n",
      "402               0               0  \n",
      "403               0               0  \n",
      "404               0               0  \n",
      "405               0               0  \n",
      "406               0               0  \n",
      "\n",
      "[407 rows x 10 columns]\n"
     ]
    }
   ],
   "source": [
    "query_string = '''\n",
    "MATCH (c:Character) \n",
    "RETURN c.name, \n",
    "        SIZE([(c)-[:SEASON1]->() | 1]) AS season1_degree,\n",
    "        SIZE([(c)-[:SEASON2]->() | 1]) AS season2_degree,\n",
    "        SIZE([(c)-[:SEASON3]->() | 1]) AS season3_degree,\n",
    "        SIZE([(c)-[:SEASON4]->() | 1]) AS season4_degree,\n",
    "        SIZE([(c)-[:SEASON5]->() | 1]) AS season5_degree,\n",
    "        SIZE([(c)-[:SEASON6]->() | 1]) AS season6_degree,\n",
    "        SIZE([(c)-[:SEASON7]->() | 1]) AS season7_degree,\n",
    "        SIZE([(c)-[:SEASON8]->() | 1]) AS season8_degree,\n",
    "        (SIZE([(c)-[:SEASON1]->() | 1]) + \n",
    "        SIZE([(c)-[:SEASON2]->() | 1]) +\n",
    "        SIZE([(c)-[:SEASON3]->() | 1]) +\n",
    "        SIZE([(c)-[:SEASON4]->() | 1]) +\n",
    "        SIZE([(c)-[:SEASON5]->() | 1]) +\n",
    "        SIZE([(c)-[:SEASON6]->() | 1]) +\n",
    "        SIZE([(c)-[:SEASON7]->() | 1]) +\n",
    "        SIZE([(c)-[:SEASON8]->() | 1])) AS combinedDegree \n",
    "ORDER BY season1_degree DESC \n",
    "'''\n",
    "\n",
    "result = pd.DataFrame([dict(_) for _ in conn.query(query_string)])\n",
    "\n",
    "print(result)\n",
    "\n",
    "top_cat_10_df = result.head(10)"
   ]
  },
  {
   "cell_type": "code",
   "execution_count": 15,
   "metadata": {},
   "outputs": [
    {
     "name": "stdout",
     "output_type": "stream",
     "text": [
      "     c.name  season1_degree  season2_degree  season3_degree  season4_degree  \\\n",
      "0   Catelyn              29              19              16              11   \n",
      "1      Arya              28              25              15              24   \n",
      "2    Cersei              23              28              18              28   \n",
      "3       Ned              23              10               7               5   \n",
      "4      Bran              18              13              17              15   \n",
      "5   Joffrey              18              23              14              26   \n",
      "6  Daenerys              17              13              10              14   \n",
      "7     Jaime              16              12              13              19   \n",
      "8     Petyr              15              13               9               8   \n",
      "9       Jon              14               6              12              20   \n",
      "\n",
      "   season5_degree  season6_degree  season7_degree  season8_degree  \\\n",
      "0               4               5               3               0   \n",
      "1              11              17              18              38   \n",
      "2              29              24              26              16   \n",
      "3               4              10               4               4   \n",
      "4               3              14              16              29   \n",
      "5               7               4               8               2   \n",
      "6              11              16              28              32   \n",
      "7              11              16              12              16   \n",
      "8              20               7               9               1   \n",
      "9              18              21              24              20   \n",
      "\n",
      "   combinedDegree  \n",
      "0              87  \n",
      "1             176  \n",
      "2             192  \n",
      "3              67  \n",
      "4             125  \n",
      "5             102  \n",
      "6             141  \n",
      "7             115  \n",
      "8              82  \n",
      "9             135  \n"
     ]
    },
    {
     "data": {
      "image/png": "[encoded data removed]",
      "text/plain": [
       "<Figure size 720x432 with 1 Axes>"
      ]
     },
     "metadata": {
      "needs_background": "light"
     },
     "output_type": "display_data"
    }
   ],
   "source": [
    "import numpy as np\n",
    "\n",
    "print(top_cat_10_df)\n",
    "# Convert DataFrame columns to numpy array\n",
    "columns_array = np.array(top_cat_10_df.columns[1:])\n",
    "plt.figure(figsize=(10, 6))\n",
    "for i in range(len(top_cat_10_df)):\n",
    "    # Convert DataFrame row to numpy array\n",
    "    row_array = np.array(top_cat_10_df.iloc[i, 1:])\n",
    "    plt.plot(columns_array, row_array, label=top_cat_10_df.iloc[i, 0])\n",
    "\n",
    "    \n",
    "\n",
    "plt.xlabel('Seasons')\n",
    "plt.ylabel('Degree')\n",
    "plt.title('Degree of Characters over Seasons')\n",
    "plt.legend()\n",
    "plt.grid(True)\n",
    "plt.xticks(rotation=45)\n",
    "plt.tight_layout()\n",
    "plt.show()"
   ]
  },
  {
   "cell_type": "markdown",
   "metadata": {},
   "source": [
    "## Question 5"
   ]
  },
  {
   "cell_type": "code",
   "execution_count": 154,
   "metadata": {},
   "outputs": [
    {
     "name": "stdout",
     "output_type": "stream",
     "text": [
      "  Source  Target  Weight\n",
      "0    NED  ROBERT     192\n",
      "   Source  Target  Weight\n",
      "0  CERSEI  TYRION     177\n",
      "  Source   Target  Weight\n",
      "0    JON  YGRITTE     159\n",
      "  Source Target  Weight\n",
      "0   ARYA  HOUND     162\n",
      "  Source Target  Weight\n",
      "0   ARYA  JAQEN     148\n",
      "  Source Target  Weight\n",
      "0    JON  SANSA     151\n",
      "     Source  Target  Weight\n",
      "0  DAENERYS  TYRION     179\n",
      "     Source Target  Weight\n",
      "0  DAENERYS    JON     194\n"
     ]
    }
   ],
   "source": [
    "for i in range(1, 9):\n",
    "    query_string = f'''\n",
    "    WITH \"https://raw.githubusercontent.com/mathbeveridge/gameofthrones/master/data/got-s{i}-edges.csv\" AS uri\n",
    "    LOAD CSV WITH HEADERS FROM uri AS row\n",
    "    MERGE (source:Character {{name: row.Source}})\n",
    "    MERGE (target:Character {{name: row.Target}})\n",
    "    MERGE (source)-[rel:INTERACTS]->(target)\n",
    "    SET rel.Weight = toInteger(row.Weight)\n",
    "    RETURN source.name AS Source, target.name AS Target, rel.Weight AS Weight\n",
    "    ORDER BY rel.Weight DESC\n",
    "    LIMIT 1\n",
    "    '''\n",
    "    result_max_interact = pd.DataFrame([dict(_) for _ in conn.query(query_string)])\n",
    "    print(result_max_interact.head(1))"
   ]
  },
  {
   "cell_type": "markdown",
   "metadata": {},
   "source": [
    "## Question 6"
   ]
  },
  {
   "cell_type": "markdown",
   "metadata": {},
   "source": [
    "### Both way interactions"
   ]
  },
  {
   "cell_type": "code",
   "execution_count": 175,
   "metadata": {},
   "outputs": [
    {
     "data": {
      "text/plain": [
       "[{'Character': 'Tyrion', 'NumDistinctInteractions': 128},\n",
       " {'Character': 'Jon', 'NumDistinctInteractions': 105},\n",
       " {'Character': 'Sansa', 'NumDistinctInteractions': 101},\n",
       " {'Character': 'Arya', 'NumDistinctInteractions': 97},\n",
       " {'Character': 'Daenerys', 'NumDistinctInteractions': 93},\n",
       " {'Character': 'Jaime', 'NumDistinctInteractions': 90},\n",
       " {'Character': 'Cersei', 'NumDistinctInteractions': 86},\n",
       " {'Character': 'Davos', 'NumDistinctInteractions': 78},\n",
       " {'Character': 'Ned', 'NumDistinctInteractions': 78},\n",
       " {'Character': 'Sam', 'NumDistinctInteractions': 78}]"
      ]
     },
     "execution_count": 175,
     "metadata": {},
     "output_type": "execute_result"
    }
   ],
   "source": [
    "query_string = '''\n",
    "MATCH (c:Character)-[R]-(other:Character)\n",
    "WITH c, COUNT(DISTINCT other) AS numDistinctInteractions\n",
    "ORDER BY numDistinctInteractions DESC\n",
    "LIMIT 10\n",
    "RETURN c.name AS Character, numDistinctInteractions AS NumDistinctInteractions\n",
    "'''\n",
    "\n",
    "\n",
    "[dict(_) for _ in conn.query(query_string)]\n",
    "\n"
   ]
  },
  {
   "cell_type": "markdown",
   "metadata": {},
   "source": [
    "### One way interactions"
   ]
  },
  {
   "cell_type": "code",
   "execution_count": 176,
   "metadata": {},
   "outputs": [
    {
     "data": {
      "text/plain": [
       "[{'Character': 'Arya', 'NumDistinctInteractions': 93},\n",
       " {'Character': 'Daenerys', 'NumDistinctInteractions': 80},\n",
       " {'Character': 'Cersei', 'NumDistinctInteractions': 73},\n",
       " {'Character': 'Bran', 'NumDistinctInteractions': 67},\n",
       " {'Character': 'Jon', 'NumDistinctInteractions': 66},\n",
       " {'Character': 'Davos', 'NumDistinctInteractions': 63},\n",
       " {'Character': 'Bronn', 'NumDistinctInteractions': 61},\n",
       " {'Character': 'Jaime', 'NumDistinctInteractions': 57},\n",
       " {'Character': 'Brienne', 'NumDistinctInteractions': 54},\n",
       " {'Character': 'Sandor', 'NumDistinctInteractions': 47}]"
      ]
     },
     "execution_count": 176,
     "metadata": {},
     "output_type": "execute_result"
    }
   ],
   "source": [
    "query_string = '''\n",
    "MATCH (c:Character)-[R]->(other:Character)\n",
    "WITH c, COUNT(DISTINCT other) AS numDistinctInteractions\n",
    "ORDER BY numDistinctInteractions DESC\n",
    "LIMIT 10\n",
    "RETURN c.name AS Character, numDistinctInteractions AS NumDistinctInteractions\n",
    "'''\n",
    "\n",
    "\n",
    "[dict(_) for _ in conn.query(query_string)]"
   ]
  },
  {
   "cell_type": "code",
   "execution_count": null,
   "metadata": {},
   "outputs": [],
   "source": []
  },
  {
   "cell_type": "code",
   "execution_count": null,
   "metadata": {},
   "outputs": [],
   "source": []
  },
  {
   "cell_type": "code",
   "execution_count": null,
   "metadata": {},
   "outputs": [],
   "source": []
  },
  {
   "cell_type": "code",
   "execution_count": null,
   "metadata": {},
   "outputs": [],
   "source": []
  },
  {
   "cell_type": "code",
   "execution_count": null,
   "metadata": {},
   "outputs": [],
   "source": []
  },
  {
   "cell_type": "code",
   "execution_count": null,
   "metadata": {},
   "outputs": [],
   "source": []
  },
  {
   "cell_type": "code",
   "execution_count": null,
   "metadata": {},
   "outputs": [],
   "source": []
  },
  {
   "cell_type": "code",
   "execution_count": null,
   "metadata": {},
   "outputs": [],
   "source": []
  },
  {
   "cell_type": "code",
   "execution_count": null,
   "metadata": {},
   "outputs": [],
   "source": []
  },
  {
   "cell_type": "code",
   "execution_count": null,
   "metadata": {},
   "outputs": [],
   "source": []
  },
  {
   "cell_type": "code",
   "execution_count": 143,
   "metadata": {
    "colab": {
     "base_uri": "https://localhost:8080/"
    },
    "id": "U5QrExHhl_Tb",
    "outputId": "3dc599e7-66f1-4c10-e74e-3627c5054387"
   },
   "outputs": [
    {
     "name": "stdout",
     "output_type": "stream",
     "text": [
      "Query failed: {code: Neo.ClientError.Procedure.ProcedureNotFound} {message: There is no procedure with the name `gds.graph.project.cypher` registered for this database instance. Please ensure you've spelled the procedure name correctly and that the procedure is properly deployed.}\n"
     ]
    }
   ],
   "source": [
    "#Create a projecttion of the season 1 subgraph\n",
    "query_string = '''\n",
    "CALL gds.graph.project.cypher(\n",
    "    'season1_graph',\n",
    "    'MATCH (n) RETURN id(n) AS id',\n",
    "    'MATCH (n)-[e:SEASON1]-(m) RETURN id(n) AS source, e.weight AS weight, id(m) AS target'\n",
    ")\n",
    "'''\n",
    "conn.query(query_string)"
   ]
  },
  {
   "cell_type": "code",
   "execution_count": 138,
   "metadata": {
    "colab": {
     "base_uri": "https://localhost:8080/"
    },
    "id": "5Tlkelh-I-WD",
    "outputId": "5a6d7179-c7dd-438e-dcc0-b3c1792635f0"
   },
   "outputs": [
    {
     "name": "stdout",
     "output_type": "stream",
     "text": [
      "Query failed: {code: Neo.ClientError.Procedure.ProcedureNotFound} {message: There is no procedure with the name `gds.pageRank.stream` registered for this database instance. Please ensure you've spelled the procedure name correctly and that the procedure is properly deployed.}\n"
     ]
    }
   ],
   "source": [
    "# Compute pagerank of the season 1 subgraph\n",
    "query_string = '''\n",
    "CALL gds.pageRank.stream('season1_graph', {\n",
    "  maxIterations: 100,\n",
    "  dampingFactor: 0.85,\n",
    "  relationshipWeightProperty: 'weight'\n",
    "})\n",
    "YIELD nodeId, score\n",
    "RETURN gds.util.asNode(nodeId).id AS id,      gds.util.asNode(nodeId).name as name, score as full_pagerank\n",
    "ORDER BY full_pagerank DESC\n",
    "'''\n",
    "conn.query(query_string)"
   ]
  },
  {
   "cell_type": "code",
   "execution_count": null,
   "metadata": {
    "colab": {
     "base_uri": "https://localhost:8080/"
    },
    "id": "EGp_yo_DJpxs",
    "outputId": "c0598dca-9653-4394-ffa9-d84eca0ecfd3"
   },
   "outputs": [],
   "source": [
    "# Detect communities from the season 1 subgraph\n",
    "query_string = '''\n",
    "CALL gds.louvain.write('season1_graph', \n",
    "    {relationshipWeightProperty: 'weight', \n",
    "     writeProperty: 'full_community_id'\n",
    "})\n",
    "'''\n",
    "conn.query(query_string)"
   ]
  }
 ],
 "metadata": {
  "colab": {
   "provenance": []
  },
  "kernelspec": {
   "display_name": "Python 3 (ipykernel)",
   "language": "python",
   "name": "python3"
  },
  "language_info": {
   "codemirror_mode": {
    "name": "ipython",
    "version": 3
   },
   "file_extension": ".py",
   "mimetype": "text/x-python",
   "name": "python",
   "nbconvert_exporter": "python",
   "pygments_lexer": "ipython3",
   "version": "3.10.12"
  }
 },
 "nbformat": 4,
 "nbformat_minor": 1
}
